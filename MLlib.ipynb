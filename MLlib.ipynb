{
  "nbformat": 4,
  "nbformat_minor": 0,
  "metadata": {
    "colab": {
      "provenance": [],
      "authorship_tag": "ABX9TyOnhcrINIWilDYoO92faiky",
      "include_colab_link": true
    },
    "kernelspec": {
      "name": "python3",
      "display_name": "Python 3"
    },
    "language_info": {
      "name": "python"
    }
  },
  "cells": [
    {
      "cell_type": "markdown",
      "metadata": {
        "id": "view-in-github",
        "colab_type": "text"
      },
      "source": [
        "<a href=\"https://colab.research.google.com/github/Dobenkss/MLlib/blob/main/MLlib.ipynb\" target=\"_parent\"><img src=\"https://colab.research.google.com/assets/colab-badge.svg\" alt=\"Open In Colab\"/></a>"
      ]
    },
    {
      "cell_type": "markdown",
      "source": [
        "Nama : Abhipraya Rasendriya Atma Ardany <br>\n",
        "NIM : 24.21.1587 <br>\n",
        "\n",
        "LINK : https://colab.research.google.com/drive/1M9duZ3ymcpmTckicRMP4MREb_VtpQNsi?usp=sharing"
      ],
      "metadata": {
        "id": "1KnY1HMxK9ua"
      }
    },
    {
      "cell_type": "code",
      "execution_count": null,
      "metadata": {
        "id": "PaWWuoVUIHVT"
      },
      "outputs": [],
      "source": [
        "from pyspark.sql import SparkSession\n",
        "from pyspark.ml.classification import LogisticRegression\n",
        "from pyspark.ml.feature import VectorAssembler\n",
        "from pyspark.ml.evaluation import BinaryClassificationEvaluator\n",
        "from pyspark.ml import Pipeline"
      ]
    },
    {
      "cell_type": "code",
      "source": [
        "spark = SparkSession.builder.appName(\"DiabetesClassification\").getOrCreate()"
      ],
      "metadata": {
        "id": "t200duReJosA"
      },
      "execution_count": null,
      "outputs": []
    },
    {
      "cell_type": "code",
      "source": [
        "data = spark.read.csv(\"diabetes.csv\", header=True, inferSchema=True)\n",
        "\n",
        "data.show(5)\n",
        "data.printSchema()"
      ],
      "metadata": {
        "colab": {
          "base_uri": "https://localhost:8080/"
        },
        "id": "-UzCbFuDJxwC",
        "outputId": "d412ba8e-2d64-41ca-a1d3-7ac4133fc999"
      },
      "execution_count": null,
      "outputs": [
        {
          "output_type": "stream",
          "name": "stdout",
          "text": [
            "+-----------+-------+-------------+-------------+-------+----+------------------------+---+-------+\n",
            "|Pregnancies|Glucose|BloodPressure|SkinThickness|Insulin| BMI|DiabetesPedigreeFunction|Age|Outcome|\n",
            "+-----------+-------+-------------+-------------+-------+----+------------------------+---+-------+\n",
            "|          6|    148|           72|           35|      0|33.6|                   0.627| 50|      1|\n",
            "|          1|     85|           66|           29|      0|26.6|                   0.351| 31|      0|\n",
            "|          8|    183|           64|            0|      0|23.3|                   0.672| 32|      1|\n",
            "|          1|     89|           66|           23|     94|28.1|                   0.167| 21|      0|\n",
            "|          0|    137|           40|           35|    168|43.1|                   2.288| 33|      1|\n",
            "+-----------+-------+-------------+-------------+-------+----+------------------------+---+-------+\n",
            "only showing top 5 rows\n",
            "\n",
            "root\n",
            " |-- Pregnancies: integer (nullable = true)\n",
            " |-- Glucose: integer (nullable = true)\n",
            " |-- BloodPressure: integer (nullable = true)\n",
            " |-- SkinThickness: integer (nullable = true)\n",
            " |-- Insulin: integer (nullable = true)\n",
            " |-- BMI: double (nullable = true)\n",
            " |-- DiabetesPedigreeFunction: double (nullable = true)\n",
            " |-- Age: integer (nullable = true)\n",
            " |-- Outcome: integer (nullable = true)\n",
            "\n"
          ]
        }
      ]
    },
    {
      "cell_type": "code",
      "source": [
        "feature_columns = [col for col in data.columns if col != \"Outcome\"]\n",
        "assembler = VectorAssembler(inputCols=feature_columns, outputCol=\"features\")\n",
        "\n",
        "lr = LogisticRegression(labelCol=\"Outcome\", featuresCol=\"features\")\n",
        "\n",
        "pipeline = Pipeline(stages=[assembler, lr])\n",
        "\n",
        "train_data, test_data = data.randomSplit([0.8, 0.2], seed=42)\n",
        "\n",
        "model = pipeline.fit(train_data)"
      ],
      "metadata": {
        "id": "-wTYEK4YKAzY"
      },
      "execution_count": null,
      "outputs": []
    },
    {
      "cell_type": "code",
      "source": [
        "predictions = model.transform(test_data)\n",
        "\n",
        "evaluator = BinaryClassificationEvaluator(labelCol=\"Outcome\", rawPredictionCol=\"rawPrediction\", metricName=\"areaUnderROC\")\n",
        "auc = evaluator.evaluate(predictions)\n",
        "\n",
        "print(f\"AUC: {auc}\")"
      ],
      "metadata": {
        "colab": {
          "base_uri": "https://localhost:8080/"
        },
        "id": "4aUQrVfNKhea",
        "outputId": "2e38056f-36bc-4464-a1f1-f478a382b92f"
      },
      "execution_count": null,
      "outputs": [
        {
          "output_type": "stream",
          "name": "stdout",
          "text": [
            "AUC: 0.8619186046511628\n"
          ]
        }
      ]
    },
    {
      "cell_type": "code",
      "source": [
        "predictions.select(\"Outcome\", \"prediction\", \"probability\").show(10)"
      ],
      "metadata": {
        "colab": {
          "base_uri": "https://localhost:8080/"
        },
        "id": "xIeRD-nRKrU0",
        "outputId": "fabf3fb0-9308-4ed2-eb9f-dfb37e88f80c"
      },
      "execution_count": null,
      "outputs": [
        {
          "output_type": "stream",
          "name": "stdout",
          "text": [
            "+-------+----------+--------------------+\n",
            "|Outcome|prediction|         probability|\n",
            "+-------+----------+--------------------+\n",
            "|      0|       0.0|[0.95527793179914...|\n",
            "|      0|       0.0|[0.93520104500295...|\n",
            "|      0|       0.0|[0.87809674497398...|\n",
            "|      0|       0.0|[0.98758412015116...|\n",
            "|      0|       0.0|[0.96359923987192...|\n",
            "|      0|       0.0|[0.95176906432069...|\n",
            "|      0|       0.0|[0.99288479201560...|\n",
            "|      0|       0.0|[0.82433460856301...|\n",
            "|      0|       0.0|[0.87768387780641...|\n",
            "|      1|       0.0|[0.86713492820924...|\n",
            "+-------+----------+--------------------+\n",
            "only showing top 10 rows\n",
            "\n"
          ]
        }
      ]
    }
  ]
}